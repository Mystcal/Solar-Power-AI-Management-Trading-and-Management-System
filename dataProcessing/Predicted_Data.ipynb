{
 "cells": [
  {
   "cell_type": "code",
   "execution_count": 1,
   "id": "50aa847b",
   "metadata": {},
   "outputs": [],
   "source": [
    "import pandas as pd\n",
    "import numpy as np\n",
    "from tensorflow.keras.models import load_model\n",
    "from sklearn.preprocessing import StandardScaler\n",
    "from sklearn.preprocessing import MinMaxScaler\n",
    "from sklearn.model_selection import train_test_split"
   ]
  },
  {
   "cell_type": "code",
   "execution_count": 2,
   "id": "6ee8483e",
   "metadata": {},
   "outputs": [
    {
     "name": "stderr",
     "output_type": "stream",
     "text": [
      "WARNING:absl:Compiled the loaded model, but the compiled metrics have yet to be built. `model.compile_metrics` will be empty until you train or evaluate the model.\n",
      "WARNING:absl:Compiled the loaded model, but the compiled metrics have yet to be built. `model.compile_metrics` will be empty until you train or evaluate the model.\n",
      "WARNING:absl:Compiled the loaded model, but the compiled metrics have yet to be built. `model.compile_metrics` will be empty until you train or evaluate the model.\n"
     ]
    }
   ],
   "source": [
    "# Replace 'path_to_your_model.h5' with the actual path to your .h5 file\n",
    "DC_model = load_model('DC_model.h5')\n",
    "AC_model = load_model('AC_model.h5')\n",
    "consumption_model = load_model('consumption_model.h5')\n",
    "\n",
    "# Read the datasets into DataFrames\n",
    "weather_data = pd.read_csv(\"C:/Users/yujin/Downloads/MONASH/Y3 S3/FIT 3164/fyp/Weather_Sensor_Data.csv\")\n",
    "power_data = pd.read_csv(\"C:/Users/yujin/Downloads/MONASH/Y3 S3/FIT 3164/fyp/Power_Generation_Data.csv\")"
   ]
  },
  {
   "cell_type": "code",
   "execution_count": 3,
   "id": "1ac8be9e",
   "metadata": {},
   "outputs": [],
   "source": [
    "# Convert DATE_TIME columns to datetime objects\n",
    "weather_data['DATE_TIME'] = pd.to_datetime(weather_data['DATE_TIME'], format='%d/%m/%Y %H:%M')\n",
    "power_data['DATE_TIME'] = pd.to_datetime(power_data['DATE_TIME'], format='%d/%m/%Y %H:%M')\n",
    "\n",
    "# Group the Power Generation Data by DATE_TIME and calculate mean for DC_POWER and AC_POWER\n",
    "grouped_power_data = power_data.groupby('DATE_TIME', as_index=False)[['DC_POWER', 'AC_POWER']].mean()\n",
    "\n",
    "# Merge the grouped Power Generation Data with Weather Sensor Data\n",
    "merged_data = pd.merge(grouped_power_data, weather_data, on='DATE_TIME', how='inner')\n",
    "\n",
    "# Extract time-based features\n",
    "merged_data['HOUR'] = merged_data['DATE_TIME'].dt.hour\n",
    "merged_data['DAY_OF_WEEK'] = merged_data['DATE_TIME'].dt.dayofweek\n",
    "merged_data['MONTH'] = merged_data['DATE_TIME'].dt.month\n",
    "\n",
    "# Calculate rolling means and sums\n",
    "window_size = 4\n",
    "merged_data['ROLLING_DC_POWER_MEAN'] = merged_data['DC_POWER'].rolling(window=window_size, min_periods=1).mean()\n",
    "merged_data['ROLLING_AC_POWER_MEAN'] = merged_data['AC_POWER'].rolling(window=window_size, min_periods=1).mean()\n",
    "merged_data['ROLLING_MODULE_TEMP_MEAN'] = merged_data['MODULE_TEMPERATURE'].rolling(window=window_size, min_periods=1).mean()\n",
    "merged_data['ROLLING_IRRADIATION_MEAN'] = merged_data['IRRADIATION'].rolling(window=window_size, min_periods=1).mean()\n",
    "\n",
    "# Function to prepare data\n",
    "def prepare_data(features, target_column):\n",
    "    y = merged_data[target_column]\n",
    "    X_train, X_test, y_train, y_test = train_test_split(merged_data[features], y, test_size=0.2, random_state=42)\n",
    "    \n",
    "    # Standardize the features\n",
    "    scaler = StandardScaler()\n",
    "    X_train_scaled = scaler.fit_transform(X_train)\n",
    "    X_test_scaled = scaler.transform(X_test)\n",
    "    \n",
    "    # Reshape the data to a 3D format required for LSTM\n",
    "    X_train_lstm = np.reshape(X_train_scaled, (X_train_scaled.shape[0], 1, X_train_scaled.shape[1]))\n",
    "    X_test_lstm = np.reshape(X_test_scaled, (X_test_scaled.shape[0], 1, X_test_scaled.shape[1]))\n",
    "    \n",
    "    return X_train_lstm, X_test_lstm, y_train, y_test"
   ]
  },
  {
   "cell_type": "code",
   "execution_count": 5,
   "id": "30c92694",
   "metadata": {},
   "outputs": [
    {
     "name": "stdout",
     "output_type": "stream",
     "text": [
      "\u001b[1m20/20\u001b[0m \u001b[32m━━━━━━━━━━━━━━━━━━━━\u001b[0m\u001b[37m\u001b[0m \u001b[1m0s\u001b[0m 2ms/step\n",
      "\u001b[1m20/20\u001b[0m \u001b[32m━━━━━━━━━━━━━━━━━━━━\u001b[0m\u001b[37m\u001b[0m \u001b[1m0s\u001b[0m 2ms/step\n"
     ]
    },
    {
     "name": "stderr",
     "output_type": "stream",
     "text": [
      "C:\\Users\\yujin\\AppData\\Local\\Temp\\ipykernel_5552\\2335844747.py:22: SettingWithCopyWarning: \n",
      "A value is trying to be set on a copy of a slice from a DataFrame.\n",
      "Try using .loc[row_indexer,col_indexer] = value instead\n",
      "\n",
      "See the caveats in the documentation: https://pandas.pydata.org/pandas-docs/stable/user_guide/indexing.html#returning-a-view-versus-a-copy\n",
      "  prediction_data['Predicted_DC_POWER'] = DC_predictions.flatten()\n",
      "C:\\Users\\yujin\\AppData\\Local\\Temp\\ipykernel_5552\\2335844747.py:23: SettingWithCopyWarning: \n",
      "A value is trying to be set on a copy of a slice from a DataFrame.\n",
      "Try using .loc[row_indexer,col_indexer] = value instead\n",
      "\n",
      "See the caveats in the documentation: https://pandas.pydata.org/pandas-docs/stable/user_guide/indexing.html#returning-a-view-versus-a-copy\n",
      "  prediction_data['Predicted_AC_POWER'] = AC_predictions.flatten()\n"
     ]
    }
   ],
   "source": [
    "# Assuming 'merged_data' is the final DataFrame you've prepared for prediction\n",
    "# Define the features as used in the models\n",
    "dc_features = ['MODULE_TEMPERATURE', 'IRRADIATION', 'HOUR', 'DAY_OF_WEEK', 'MONTH',\n",
    "               'ROLLING_DC_POWER_MEAN', 'ROLLING_MODULE_TEMP_MEAN', 'ROLLING_IRRADIATION_MEAN']\n",
    "target_dc = 'DC_POWER'\n",
    "ac_features = ['MODULE_TEMPERATURE', 'IRRADIATION', 'HOUR', 'DAY_OF_WEEK', 'MONTH',\n",
    "               'ROLLING_AC_POWER_MEAN', 'ROLLING_MODULE_TEMP_MEAN', 'ROLLING_IRRADIATION_MEAN']\n",
    "target_ac = 'AC_POWER'\n",
    "# Prepare the data for AC Power\n",
    "X_train_ac, X_test_ac, y_train_ac, y_test_ac = prepare_data(ac_features, target_ac)\n",
    "\n",
    "# Prepare the data for DC Power\n",
    "X_train_dc, X_test_dc, y_train_dc, y_test_dc = prepare_data(dc_features, target_dc)\n",
    "\n",
    "# Make predictions\n",
    "DC_predictions = DC_model.predict(X_test_dc)\n",
    "AC_predictions = AC_model.predict(X_test_ac)\n",
    "\n",
    "prediction_data = merged_data.iloc[int(len(merged_data) * 0.8):]\n",
    "\n",
    "# Add predictions to the prediction_data DataFrame\n",
    "prediction_data['Predicted_DC_POWER'] = DC_predictions.flatten()\n",
    "prediction_data['Predicted_AC_POWER'] = AC_predictions.flatten()\n",
    "\n",
    "# Export the predictions to CSV files\n",
    "prediction_data.to_csv('DC_AC_Power_Predictions.csv', index=False)"
   ]
  },
  {
   "cell_type": "code",
   "execution_count": 6,
   "id": "36809c5c",
   "metadata": {},
   "outputs": [],
   "source": [
    "df1 = pd.read_csv(\"C:/Users/yujin/Downloads/MONASH/Y3 S3/FIT 3164/fyp/powerconsumption.csv\")"
   ]
  },
  {
   "cell_type": "code",
   "execution_count": 7,
   "id": "2af97333",
   "metadata": {},
   "outputs": [
    {
     "name": "stdout",
     "output_type": "stream",
     "text": [
      "        Datetime  Temperature  Humidity  WindSpeed  GeneralDiffuseFlows  \\\n",
      "0  1/1/2017 0:00        6.559      73.8      0.083                0.051   \n",
      "1  1/1/2017 0:10        6.414      74.5      0.083                0.070   \n",
      "2  1/1/2017 0:20        6.313      74.5      0.080                0.062   \n",
      "3  1/1/2017 0:30        6.121      75.0      0.083                0.091   \n",
      "4  1/1/2017 0:40        5.921      75.7      0.081                0.048   \n",
      "\n",
      "   DiffuseFlows  PowerConsumption_Zone1  PowerConsumption_Zone2  \\\n",
      "0         0.119             34055.69620             16128.87538   \n",
      "1         0.085             29814.68354             19375.07599   \n",
      "2         0.100             29128.10127             19006.68693   \n",
      "3         0.096             28228.86076             18361.09422   \n",
      "4         0.085             27335.69620             17872.34043   \n",
      "\n",
      "   PowerConsumption_Zone3  power consumption  \n",
      "0             20240.96386       23475.178480  \n",
      "1             20131.08434       23106.947957  \n",
      "2             19668.43373       22601.073977  \n",
      "3             18899.27711       21829.744030  \n",
      "4             18442.40964       21216.815423  \n"
     ]
    }
   ],
   "source": [
    "df1['power consumption'] = df1[['PowerConsumption_Zone1', 'PowerConsumption_Zone2', 'PowerConsumption_Zone3']].mean(axis=1)\n",
    "print(df1.head())"
   ]
  },
  {
   "cell_type": "code",
   "execution_count": 8,
   "id": "63e44ba0",
   "metadata": {},
   "outputs": [],
   "source": [
    "# Assuming your DataFrame is named df\n",
    "df1['Datetime'] = pd.to_datetime(df1['Datetime'])\n",
    "df1.set_index('Datetime', inplace=True)\n",
    "\n",
    "# Optional: Create additional time features\n",
    "df1['hour'] = df1.index.hour\n",
    "df1['day_of_week'] = df1.index.dayofweek\n",
    "# Add more as needed\n",
    "\n",
    "# Select features and target\n",
    "features1 = df1[['Temperature', 'Humidity', 'WindSpeed', 'GeneralDiffuseFlows', 'DiffuseFlows', 'hour', 'day_of_week']] # Add or remove features based on your Step 3 decisions\n",
    "target1 = df1['power consumption']\n",
    "\n",
    "# Normalize features\n",
    "scaler = MinMaxScaler(feature_range=(0, 1))\n",
    "scaled_features = scaler.fit_transform(features1)\n",
    "scaled_target = scaler.fit_transform(target1.values.reshape(-1,1))\n",
    "\n",
    "# Sequence creation (example with a lookback of 3 time steps)\n",
    "def create_sequences(features, target, sequence_length=3):\n",
    "    X1, y1 = [], []\n",
    "    for i in range(len(features) - sequence_length):\n",
    "        X1.append(features[i:i+sequence_length])\n",
    "        y1.append(target[i+sequence_length])\n",
    "    return np.array(X1), np.array(y1).reshape(-1, 1)\n",
    "\n",
    "X1, y1 = create_sequences(scaled_features, scaled_target, sequence_length=3)\n",
    "\n",
    "# Split the data into training and testing sets\n",
    "X_train1, X_test1, y_train1, y_test1 = train_test_split(X1, y1, test_size=0.2, random_state=42)\n"
   ]
  },
  {
   "cell_type": "code",
   "execution_count": 12,
   "id": "7a48ed59",
   "metadata": {},
   "outputs": [
    {
     "name": "stdout",
     "output_type": "stream",
     "text": [
      "\u001b[1m328/328\u001b[0m \u001b[32m━━━━━━━━━━━━━━━━━━━━\u001b[0m\u001b[37m\u001b[0m \u001b[1m0s\u001b[0m 1ms/step\n"
     ]
    },
    {
     "name": "stderr",
     "output_type": "stream",
     "text": [
      "C:\\Users\\yujin\\AppData\\Local\\Temp\\ipykernel_5552\\1533284901.py:9: SettingWithCopyWarning: \n",
      "A value is trying to be set on a copy of a slice from a DataFrame.\n",
      "Try using .loc[row_indexer,col_indexer] = value instead\n",
      "\n",
      "See the caveats in the documentation: https://pandas.pydata.org/pandas-docs/stable/user_guide/indexing.html#returning-a-view-versus-a-copy\n",
      "  df2['Predictions'] = y_pred1.flatten()\n"
     ]
    }
   ],
   "source": [
    "from sklearn.metrics import mean_squared_error, mean_absolute_error, r2_score\n",
    "import numpy as np\n",
    "\n",
    "# Predict on the test data\n",
    "y_pred1 = consumption_model.predict(X_test1)\n",
    "\n",
    "# Merge the predictions with the test set\n",
    "df2 = df1.iloc[int(len(df1) * 0.8)+1:]\n",
    "df2['Predictions'] = y_pred1.flatten()\n",
    "\n",
    "# Output to CSV\n",
    "df2.to_csv('consumption_Predictions.csv', index=False)"
   ]
  }
 ],
 "metadata": {
  "kernelspec": {
   "display_name": "Python 3 (ipykernel)",
   "language": "python",
   "name": "python3"
  },
  "language_info": {
   "codemirror_mode": {
    "name": "ipython",
    "version": 3
   },
   "file_extension": ".py",
   "mimetype": "text/x-python",
   "name": "python",
   "nbconvert_exporter": "python",
   "pygments_lexer": "ipython3",
   "version": "3.10.12"
  }
 },
 "nbformat": 4,
 "nbformat_minor": 5
}
